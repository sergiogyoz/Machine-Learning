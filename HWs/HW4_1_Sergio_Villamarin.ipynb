{
 "cells": [
  {
   "cell_type": "markdown",
   "metadata": {},
   "source": [
    "### HW recap and setup\n",
    "\n",
    "You are going to train ridge regression using SGD.\n",
    "Ridge regression has the cost function = MSE + alpha*||w||^2, where ||w|| is the Euclidean norm.\n",
    "The goal is to find two optimal hyperparameters 1) learning rate of SGD and 2) alpha.\n",
    "\n",
    "First, generate data like this:\n",
    "\n",
    "`np.random.seed(0)`\n",
    "`m = 100`\n",
    "`X = 6 * np.random.rand(m, 1) - 3`\n",
    "`y = 2 + X + 0.3 * X**2 + 2*np.random.randn(m, 1)`\n",
    "`y = y.reshape((m))`\n",
    "\n",
    "Use the seed 0.\n",
    "\n",
    "1. Randomly split the data into 80% training data and 20% testing data. Then split the training data again into 75% training data and 25% validation data. Keep this split fixed.\n",
    "\n",
    "2. Use SGDRegressor(max_iter=1000, tol=-np.infty, warm_start=True, penalty=\"l2\", learning_rate=\"constant\", random_state=0, alpha=alpha, eta0=eta0)\n",
    "What does this do? Comment on the choice of arguments above.\n",
    "Here alpha and eta0 are the value you are going to provide as the regularization weight and the learning rate.\n",
    "\n",
    "3. For each combinations of alphas = [1E-6,1E-5,1E-4,1E-3,1E-2,1E-1], eta0s = [1E-6,1E-5,1E-4,1E-3,1E-2,1E-1] \n",
    "\n",
    "(a) instantiate SGDRegressor,\n",
    "(b) call fit(),\n",
    "(c) call predict() and measure training and validation scores.\n",
    "\n",
    "4. Report the training and validation error for each combination. Which combination has the smallest validation error?\n",
    "\n",
    "5. Now use these hyperparameters to retrain the model from scratch using ALL training data (=train + validation sets).Plot the training and test error as a function of epochs. You might want to use SGDRegressor(max_iter=1, ... )\n",
    "\n",
    "6. Report the test score or this final model, and also plot the test data vs final linear regression as a line."
   ]
  },
  {
   "cell_type": "code",
   "execution_count": 1,
   "metadata": {},
   "outputs": [],
   "source": [
    "import sys\n",
    "assert sys.version_info >= (3, 5)\n",
    "\n",
    "import sklearn\n",
    "assert sklearn.__version__ >= \"0.20\"\n",
    "\n",
    "import numpy as np\n",
    "import os\n",
    "\n",
    "%matplotlib inline\n",
    "import matplotlib as mpl\n",
    "import matplotlib.pyplot as plt"
   ]
  },
  {
   "cell_type": "code",
   "execution_count": 2,
   "metadata": {},
   "outputs": [
    {
     "data": {
      "text/plain": [
       "<matplotlib.collections.PathCollection at 0x1fef7742b00>"
      ]
     },
     "execution_count": 2,
     "metadata": {},
     "output_type": "execute_result"
    },
    {
     "data": {
      "image/png": "[encoded data removed]",
      "text/plain": [
       "<Figure size 640x480 with 1 Axes>"
      ]
     },
     "metadata": {},
     "output_type": "display_data"
    }
   ],
   "source": [
    "np.random.seed(0)\n",
    "m = 100\n",
    "X = 6 * np.random.rand(m) - 3\n",
    "Y = 2 + X + 0.3 * X**2 + 2*np.random.randn(m)\n",
    "plt.scatter(X,Y)\n"
   ]
  },
  {
   "cell_type": "markdown",
   "metadata": {},
   "source": [
    "### 1. Randomly split the data into 80% training data and 20% testing data. Then split the training data again into 75% training data and 25% validation data. Keep this split fixed."
   ]
  },
  {
   "cell_type": "markdown",
   "metadata": {},
   "source": [
    "Let's split the data using some random indices, to make thing easier for me I'll use pandas."
   ]
  },
  {
   "cell_type": "code",
   "execution_count": 3,
   "metadata": {},
   "outputs": [
    {
     "data": {
      "text/html": [
       "<div>\n",
       "<style scoped>\n",
       "    .dataframe tbody tr th:only-of-type {\n",
       "        vertical-align: middle;\n",
       "    }\n",
       "\n",
       "    .dataframe tbody tr th {\n",
       "        vertical-align: top;\n",
       "    }\n",
       "\n",
       "    .dataframe thead th {\n",
       "        text-align: right;\n",
       "    }\n",
       "</style>\n",
       "<table border=\"1\" class=\"dataframe\">\n",
       "  <thead>\n",
       "    <tr style=\"text-align: right;\">\n",
       "      <th></th>\n",
       "      <th>x</th>\n",
       "      <th>y</th>\n",
       "    </tr>\n",
       "  </thead>\n",
       "  <tbody>\n",
       "    <tr>\n",
       "      <th>0</th>\n",
       "      <td>0.292881</td>\n",
       "      <td>-0.011685</td>\n",
       "    </tr>\n",
       "    <tr>\n",
       "      <th>1</th>\n",
       "      <td>1.291136</td>\n",
       "      <td>5.592899</td>\n",
       "    </tr>\n",
       "    <tr>\n",
       "      <th>2</th>\n",
       "      <td>0.616580</td>\n",
       "      <td>3.661956</td>\n",
       "    </tr>\n",
       "    <tr>\n",
       "      <th>3</th>\n",
       "      <td>0.269299</td>\n",
       "      <td>-0.781432</td>\n",
       "    </tr>\n",
       "    <tr>\n",
       "      <th>4</th>\n",
       "      <td>-0.458071</td>\n",
       "      <td>4.581382</td>\n",
       "    </tr>\n",
       "    <tr>\n",
       "      <th>...</th>\n",
       "      <td>...</td>\n",
       "      <td>...</td>\n",
       "    </tr>\n",
       "    <tr>\n",
       "      <th>95</th>\n",
       "      <td>-1.900852</td>\n",
       "      <td>2.546309</td>\n",
       "    </tr>\n",
       "    <tr>\n",
       "      <th>96</th>\n",
       "      <td>0.519078</td>\n",
       "      <td>0.993091</td>\n",
       "    </tr>\n",
       "    <tr>\n",
       "      <th>97</th>\n",
       "      <td>-2.879355</td>\n",
       "      <td>0.228751</td>\n",
       "    </tr>\n",
       "    <tr>\n",
       "      <th>98</th>\n",
       "      <td>1.973640</td>\n",
       "      <td>4.231152</td>\n",
       "    </tr>\n",
       "    <tr>\n",
       "      <th>99</th>\n",
       "      <td>-2.971827</td>\n",
       "      <td>1.712658</td>\n",
       "    </tr>\n",
       "  </tbody>\n",
       "</table>\n",
       "<p>100 rows × 2 columns</p>\n",
       "</div>"
      ],
      "text/plain": [
       "           x         y\n",
       "0   0.292881 -0.011685\n",
       "1   1.291136  5.592899\n",
       "2   0.616580  3.661956\n",
       "3   0.269299 -0.781432\n",
       "4  -0.458071  4.581382\n",
       "..       ...       ...\n",
       "95 -1.900852  2.546309\n",
       "96  0.519078  0.993091\n",
       "97 -2.879355  0.228751\n",
       "98  1.973640  4.231152\n",
       "99 -2.971827  1.712658\n",
       "\n",
       "[100 rows x 2 columns]"
      ]
     },
     "metadata": {},
     "output_type": "display_data"
    },
    {
     "data": {
      "text/plain": [
       "<AxesSubplot:xlabel='x', ylabel='y'>"
      ]
     },
     "execution_count": 3,
     "metadata": {},
     "output_type": "execute_result"
    },
    {
     "data": {
      "image/png": "[encoded data removed]",
      "text/plain": [
       "<Figure size 640x480 with 1 Axes>"
      ]
     },
     "metadata": {},
     "output_type": "display_data"
    }
   ],
   "source": [
    "import pandas as pd\n",
    "\n",
    "df = pd.DataFrame()\n",
    "df[\"x\"]=X\n",
    "df[\"y\"]=Y\n",
    "display(df)\n",
    "df.plot.scatter(x=\"x\",y=\"y\")\n"
   ]
  },
  {
   "cell_type": "code",
   "execution_count": 4,
   "metadata": {},
   "outputs": [
    {
     "name": "stdout",
     "output_type": "stream",
     "text": [
      "<class 'pandas.core.frame.DataFrame'>\n",
      "Int64Index: 20 entries, 25 to 44\n",
      "Data columns (total 2 columns):\n",
      " #   Column  Non-Null Count  Dtype  \n",
      "---  ------  --------------  -----  \n",
      " 0   x       20 non-null     float64\n",
      " 1   y       20 non-null     float64\n",
      "dtypes: float64(2)\n",
      "memory usage: 480.0 bytes\n",
      "\n",
      "\n",
      "<class 'pandas.core.frame.DataFrame'>\n",
      "Int64Index: 60 entries, 26 to 52\n",
      "Data columns (total 2 columns):\n",
      " #   Column  Non-Null Count  Dtype  \n",
      "---  ------  --------------  -----  \n",
      " 0   x       60 non-null     float64\n",
      " 1   y       60 non-null     float64\n",
      "dtypes: float64(2)\n",
      "memory usage: 1.4 KB\n",
      "\n",
      "\n",
      "<class 'pandas.core.frame.DataFrame'>\n",
      "Int64Index: 20 entries, 10 to 77\n",
      "Data columns (total 2 columns):\n",
      " #   Column  Non-Null Count  Dtype  \n",
      "---  ------  --------------  -----  \n",
      " 0   x       20 non-null     float64\n",
      " 1   y       20 non-null     float64\n",
      "dtypes: float64(2)\n",
      "memory usage: 480.0 bytes\n",
      "\n",
      "\n"
     ]
    }
   ],
   "source": [
    "np.random.seed(0)\n",
    "\n",
    "# create a random index permutation\n",
    "ind =np.array(range(0,m))\n",
    "ind = np.random.permutation(ind)\n",
    "\n",
    "# keeping the last 20% for testing\n",
    "split = int(m*0.8)\n",
    "test_ind = ind[split:m]\n",
    "test = df.iloc[test_ind]\n",
    "test.info()\n",
    "print(\"\\n\")\n",
    "# and now further break into 75% train and 25% validation \n",
    "t_split = int((split+1)*0.75)\n",
    "\n",
    "train_ind = ind[0:t_split]\n",
    "train = df.iloc[train_ind]\n",
    "train.info()\n",
    "print(\"\\n\")\n",
    "\n",
    "valid_ind = ind[t_split:split]\n",
    "valid = df.iloc[valid_ind]\n",
    "valid.info()\n",
    "print(\"\\n\")"
   ]
  },
  {
   "cell_type": "markdown",
   "metadata": {},
   "source": [
    "### 2. Use SGDRegressor(...) What does this do? Comment on the choice of arguments above. Here alpha and eta0 are the value you are going to provide as the regularization weight and the learning rate."
   ]
  },
  {
   "cell_type": "markdown",
   "metadata": {},
   "source": [
    "According to the documentation in the [scikit-learn page](https://scikit-learn.org/stable/modules/generated/sklearn.linear_model.SGDRegressor.html) and the wiki page of SGD the parameters are:\n",
    "\n",
    "- `max iter` is the max number of iterations if the tolerance is not archieved, in this case 1000.\n",
    "- `tol` is the stopping tolerance, i.e. a condition to stop if the cost function doesn't change too much in the last $n$ iterations. Making it infinity makes sure we never stop until we do the 1000 iterations.\n",
    "- `warm_start` reuses the last call fit solution to initialize, so it has already \"warm up\" training.\n",
    "- `penalty` the cost function regularization term, in this case is the $l^2$ norm, so the sum of the squares of the regression coefficients\n",
    "- `learning rate` is the lenght of the step of the gradient descent, in this case constant and equal to `eta0`\n",
    "- `random_state` random seed used for pseudo random stuff like shuffling the data\n",
    "- `alpha` coefficient of the regularization term added to the cost function, I will vary this to see the effects\n",
    "- `eta0` in general parameter involved on the step size calculation. In this particular case is constant so the step size is exactly `eta0`. I will vary this to see the effects."
   ]
  },
  {
   "cell_type": "markdown",
   "metadata": {},
   "source": [
    "### 3. For each combinations of alphas, eta0s (a) instantiate SGDRegressor, (b) call fit(), (c) call predict() and measure training and validation scores."
   ]
  },
  {
   "cell_type": "code",
   "execution_count": 7,
   "metadata": {},
   "outputs": [
    {
     "name": "stdout",
     "output_type": "stream",
     "text": [
      "1e-06 1e-06\n",
      "1e-06 1e-05\n",
      "1e-06 0.0001\n",
      "1e-06 0.001\n",
      "1e-06 0.01\n",
      "1e-06 0.1\n",
      "1e-05 1e-06\n",
      "1e-05 1e-05\n",
      "1e-05 0.0001\n",
      "1e-05 0.001\n",
      "1e-05 0.01\n",
      "1e-05 0.1\n",
      "0.0001 1e-06\n",
      "0.0001 1e-05\n",
      "0.0001 0.0001\n",
      "0.0001 0.001\n",
      "0.0001 0.01\n",
      "0.0001 0.1\n",
      "0.001 1e-06\n",
      "0.001 1e-05\n",
      "0.001 0.0001\n",
      "0.001 0.001\n",
      "0.001 0.01\n",
      "0.001 0.1\n",
      "0.01 1e-06\n",
      "0.01 1e-05\n",
      "0.01 0.0001\n",
      "0.01 0.001\n",
      "0.01 0.01\n",
      "0.01 0.1\n",
      "0.1 1e-06\n",
      "0.1 1e-05\n",
      "0.1 0.0001\n",
      "0.1 0.001\n",
      "0.1 0.01\n",
      "0.1 0.1\n"
     ]
    },
    {
     "data": {
      "text/plain": [
       "'SGD = SGDRegressor(\\n    max_iter=1000, \\n    tol=-np.infty, \\n    warm_start=True,\\n    penalty=\"l2\", \\n    learning_rate=\"constant\", \\n    random_state=0, \\n    alpha=alpha, \\n    eta0=eta0)'"
      ]
     },
     "execution_count": 7,
     "metadata": {},
     "output_type": "execute_result"
    }
   ],
   "source": [
    "from sklearn.linear_model import SGDRegressor\n",
    "\n",
    "alphas = [1E-6,1E-5,1E-4,1E-3,1E-2,1E-1]\n",
    "eta0s = [1E-6,1E-5,1E-4,1E-3,1E-2,1E-1]\n",
    "\n",
    "for alpha in alphas:\n",
    "    for eta0 in eta0s:\n",
    "        print(alpha, eta0)\n",
    "        \n",
    "\"\"\"SGD = SGDRegressor(\n",
    "    max_iter=1000, \n",
    "    tol=-np.infty, \n",
    "    warm_start=True,\n",
    "    penalty=\"l2\", \n",
    "    learning_rate=\"constant\", \n",
    "    random_state=0, \n",
    "    alpha=alpha, \n",
    "    eta0=eta0)\"\"\""
   ]
  },
  {
   "cell_type": "code",
   "execution_count": null,
   "metadata": {},
   "outputs": [],
   "source": []
  }
 ],
 "metadata": {
  "kernelspec": {
   "display_name": "Python 3.10.4 ('ML')",
   "language": "python",
   "name": "python3"
  },
  "language_info": {
   "codemirror_mode": {
    "name": "ipython",
    "version": 3
   },
   "file_extension": ".py",
   "mimetype": "text/x-python",
   "name": "python",
   "nbconvert_exporter": "python",
   "pygments_lexer": "ipython3",
   "version": "3.10.4"
  },
  "orig_nbformat": 4,
  "vscode": {
   "interpreter": {
    "hash": "f2c347be7a09c79bec3584906b56bc46bcac2758b6dee90f1bb02256e0ead907"
   }
  }
 },
 "nbformat": 4,
 "nbformat_minor": 2
}
