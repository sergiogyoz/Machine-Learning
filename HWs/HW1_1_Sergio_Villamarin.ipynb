{
  "cells": [
    {
      "cell_type": "markdown",
      "metadata": {
        "colab_type": "text",
        "id": "view-in-github"
      },
      "source": [
        "<a href=\"https://colab.research.google.com/github/sergiogyoz/Machine-Learning/blob/main/HWs/HW1_1_Sergio_Villamarin.ipynb\" target=\"_parent\"><img src=\"https://colab.research.google.com/assets/colab-badge.svg\" alt=\"Open In Colab\"/></a>"
      ]
    },
    {
      "cell_type": "code",
      "execution_count": 2,
      "metadata": {
        "colab": {
          "base_uri": "https://localhost:8080/"
        },
        "id": "Kw4uoEdJCtO8",
        "outputId": "21f24636-5204-48bf-8bb3-ef78414145e2"
      },
      "outputs": [
        {
          "name": "stdout",
          "output_type": "stream",
          "text": [
            "Hello World\n"
          ]
        }
      ],
      "source": [
        "print(\"Hello World\")"
      ]
    }
  ],
  "metadata": {
    "colab": {
      "authorship_tag": "ABX9TyNrXUqR48nFhK18llKmWcsc",
      "include_colab_link": true,
      "name": "HW1-1-Sergio-Villamarin.ipynb",
      "provenance": []
    },
    "kernelspec": {
      "display_name": "Python 3.8.1 32-bit",
      "language": "python",
      "name": "python3"
    },
    "language_info": {
      "name": "python",
      "version": "3.8.1"
    },
    "vscode": {
      "interpreter": {
        "hash": "204a3f77e956ce9a24fa714d4dac43054cfcd1bef13edfeb9cf7d8f1e4073d14"
      }
    }
  },
  "nbformat": 4,
  "nbformat_minor": 0
}
