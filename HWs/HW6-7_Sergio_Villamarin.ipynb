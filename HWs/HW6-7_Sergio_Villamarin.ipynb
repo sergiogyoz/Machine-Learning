{
 "cells": [
  {
   "cell_type": "markdown",
   "metadata": {},
   "source": [
    "### HW recap and setup\n",
    "\n",
    "We will train Random Forest classifier and Gradient Boosting classifier for MNIST.\n",
    "\n",
    "Use the seed 0 everywhere.\n",
    "\n",
    "1. Import MNIST data as we did in Lecture 7. We are only going to use digit 0 and digit 1. So extract only those examples and discard the rest.\n",
    "\n",
    "Next, randomly split the data into 80% training data and 20% testing data. Then split the training data again into 75% training data and 25% validation data. Keep this split fixed throughout the experiments.\n",
    "\n",
    "2. Use the validation set to choose the optimal hyperparameters \"n_estimators\" and \"max_depth\" for Random Forest, and report the best hyperparameters and the best validation error. The suggested hyperparameter values are\n",
    "\n",
    "    - ns_estimators = [10,20,50,100,200]\n",
    "    - max_depths = [1,2,5,10,20]\n",
    "\n",
    "3. Train Random Forest again with all data (i.e., training + validation data). Report the training and the test error.\n",
    "\n",
    "4. Plot the feature importance as an image, as we did in Lecture 7.\n",
    "\n",
    "5. Repeat 2 with Gradient Boosting.\n",
    "\n",
    "6. Repeat 3 with Gradient Boosting\n",
    "\n",
    "7. Repeat 4 with Gradient Boosting."
   ]
  },
  {
   "cell_type": "code",
   "execution_count": 17,
   "metadata": {},
   "outputs": [],
   "source": [
    "import sys\n",
    "assert sys.version_info >= (3, 5)\n",
    "\n",
    "import sklearn\n",
    "assert sklearn.__version__ >= \"0.20\"\n",
    "\n",
    "import numpy as np\n",
    "import os\n",
    "\n",
    "%matplotlib inline\n",
    "import matplotlib as mpl\n",
    "import matplotlib.pyplot as plt"
   ]
  },
  {
   "cell_type": "markdown",
   "metadata": {},
   "source": [
    "Reading the data"
   ]
  },
  {
   "cell_type": "code",
   "execution_count": 18,
   "metadata": {},
   "outputs": [],
   "source": [
    "from sklearn.datasets import load_digits\n",
    "\n",
    "data = load_digits()\n",
    "X = data[\"data\"]\n",
    "Y = data[\"target\"] \n"
   ]
  },
  {
   "cell_type": "markdown",
   "metadata": {},
   "source": [
    "### 1. Plot the first 100 images (with 10 images per row) as you did with MNIST"
   ]
  },
  {
   "cell_type": "markdown",
   "metadata": {},
   "source": [
    "Again, I'm stealing the code from class to plot and changing the size to make it work with the digits data base"
   ]
  },
  {
   "cell_type": "code",
   "execution_count": 19,
   "metadata": {},
   "outputs": [
    {
     "data": {
      "image/png": "[encoded data removed]",
      "text/plain": [
       "<Figure size 640x480 with 1 Axes>"
      ]
     },
     "metadata": {},
     "output_type": "display_data"
    }
   ],
   "source": [
    "def plot_digits(instances, images_per_row=10, **options):\n",
    "    size = 8\n",
    "    images_per_row = min(len(instances), images_per_row)\n",
    "    n_rows = (len(instances) - 1) // images_per_row + 1 \n",
    "\n",
    "    n_empty = n_rows * images_per_row - len(instances)\n",
    "    padded_instances = np.concatenate([instances, np.zeros((n_empty, size * size))], axis=0)\n",
    "\n",
    "    image_grid = padded_instances.reshape((n_rows, images_per_row, size, size))\n",
    "\n",
    "    big_image = image_grid.transpose(0, 2, 1, 3).reshape(n_rows * size,\n",
    "                                                         images_per_row * size)\n",
    "    plt.imshow(big_image, cmap = mpl.cm.binary, **options)\n",
    "    plt.axis(\"off\")\n",
    "\n",
    "plot_digits(X[0:100])"
   ]
  },
  {
   "cell_type": "markdown",
   "metadata": {},
   "source": [
    "### 2. Randomly split the data into 80% training data and 20% testing data. Keep this split fixed."
   ]
  },
  {
   "cell_type": "markdown",
   "metadata": {},
   "source": [
    "I will use pretty much the same procedure I used on the previous HW, create a permutation and then take the first 80%"
   ]
  },
  {
   "cell_type": "code",
   "execution_count": 20,
   "metadata": {},
   "outputs": [],
   "source": [
    "m = len(Y)\n",
    "np.random.seed(0)\n",
    "\n",
    "# create a random index permutation\n",
    "ind =np.array(range(0,m))\n",
    "ind = np.random.permutation(ind)"
   ]
  },
  {
   "cell_type": "code",
   "execution_count": 21,
   "metadata": {},
   "outputs": [
    {
     "name": "stdout",
     "output_type": "stream",
     "text": [
      "[0 1 2 ... 8 9 8]\n",
      "[2 8 2 ... 5 2 8]\n"
     ]
    }
   ],
   "source": [
    "# first 80% for train and last 20% for test \n",
    "split = int(m*0.8)\n",
    "train_ind = ind[0:split]\n",
    "test_ind = ind[split:m]\n",
    "\n",
    "print(Y)\n",
    "print(Y[train_ind])"
   ]
  },
  {
   "cell_type": "markdown",
   "metadata": {},
   "source": [
    "### 3. For each value of Cs = [1E-5,1E-4,1E-3,1E-2,1E-1,1E0]\n",
    "\n",
    "#### (a) instantiate LogisticRegression"
   ]
  },
  {
   "cell_type": "code",
   "execution_count": 22,
   "metadata": {},
   "outputs": [],
   "source": [
    "from sklearn.linear_model import LogisticRegression\n",
    "from sklearn.model_selection import cross_val_score\n",
    "from sklearn.exceptions import ConvergenceWarning\n",
    "\n",
    "import warnings # to catch warnings\n",
    "\n",
    "\n",
    "C=[1e-5, 1e-4, 1e-3, 1e-2, 1e-1, 1e-0]\n",
    "cv=[]\n",
    "\n",
    "with warnings.catch_warnings():  # to remove convergence warning output\n",
    "    warnings.simplefilter(\"ignore\", category=ConvergenceWarning)\n",
    "    # for each c value fit to the train data and save the 4-cross validation scores\n",
    "    for c in C:\n",
    "        reg = LogisticRegression(multi_class=\"multinomial\",solver=\"lbfgs\", penalty=\"l2\", C=c, random_state=0, max_iter=1000)\n",
    "        cv.append( cross_val_score(reg, X[train_ind], Y[train_ind], cv =4) )"
   ]
  },
  {
   "cell_type": "markdown",
   "metadata": {},
   "source": [
    "#### (b) measure 4-fold cross_validation error"
   ]
  },
  {
   "cell_type": "code",
   "execution_count": 23,
   "metadata": {},
   "outputs": [
    {
     "name": "stdout",
     "output_type": "stream",
     "text": [
      "[0.86388889 0.86629526 0.87743733 0.86908078]\n",
      "[0.91944444 0.90250696 0.91922006 0.9275766 ]\n",
      "[0.94444444 0.94428969 0.96100279 0.95264624]\n",
      "[0.95833333 0.96100279 0.9637883  0.9637883 ]\n",
      "[0.96111111 0.95821727 0.95821727 0.9637883 ]\n",
      "[0.96388889 0.95543175 0.94428969 0.95821727]\n",
      "mean cv values\n",
      "[0.8691755648406065, 0.9171870164035902, 0.9505957907768492, 0.9617281801299907, 0.9603334880841844, 0.9554569018879604]\n",
      "max cv  0.9617281801299907  at  0.01\n"
     ]
    }
   ],
   "source": [
    "# To compare we find the mean of each 4-cross validation's scores\n",
    "cvmean = []\n",
    "for i in range(6):\n",
    "    print(cv[i])\n",
    "    cvmean.append(np.average(cv[i]))\n",
    "print(\"mean cv values\")\n",
    "print(cvmean)\n",
    "\n",
    "# The better model corresponds to the higher score\n",
    "maxcv = np.max(cvmean)\n",
    "max = np.argmax(cvmean)\n",
    "print(\"max cv \", maxcv, \" at \", C[max])\n"
   ]
  },
  {
   "cell_type": "markdown",
   "metadata": {},
   "source": [
    "### 4. Now use the hyperparameter to retrain the model from scratch using all training data. Report the train and test error of this final model."
   ]
  },
  {
   "cell_type": "markdown",
   "metadata": {},
   "source": [
    "We will use $C=0.01$ since this value yield better mean cross validation score, to find the train and test scores (notice we will be using the `score` method as the error, which corresponds to the cross validation error calculation)"
   ]
  },
  {
   "cell_type": "code",
   "execution_count": 24,
   "metadata": {},
   "outputs": [
    {
     "name": "stdout",
     "output_type": "stream",
     "text": [
      "0.9902574808629089\n",
      "0.9777777777777777\n"
     ]
    }
   ],
   "source": [
    "# fit to the train data\n",
    "reg = LogisticRegression(multi_class=\"multinomial\",solver=\"lbfgs\", penalty=\"l2\", C=C[max], random_state=0, max_iter=1000)\n",
    "reg.fit(X=X[train_ind],y=Y[train_ind])\n",
    "\n",
    "# train error\n",
    "train_error = reg.score(X[train_ind],Y[train_ind])\n",
    "print(train_error)\n",
    "\n",
    "# test error\n",
    "test_error = reg.score(X[test_ind],Y[test_ind])\n",
    "print(test_error)\n"
   ]
  },
  {
   "cell_type": "markdown",
   "metadata": {},
   "source": [
    "That is, the training score is $99.02\\%$ (or $0.98\\%$ error) and the test score is $97.77\\%$ (or $2.23\\%$ error)."
   ]
  },
  {
   "cell_type": "markdown",
   "metadata": {},
   "source": [
    "### 5. Repeat 3 with LogisticRegression(..., penalty=\"l1\", C=C, random_state=0, max_iter=1000, solver='saga')\n",
    "Now lets rinse and repeat"
   ]
  },
  {
   "cell_type": "code",
   "execution_count": 25,
   "metadata": {},
   "outputs": [],
   "source": [
    "from sklearn.linear_model import LogisticRegression\n",
    "from sklearn.model_selection import cross_val_score\n",
    "from sklearn.exceptions import ConvergenceWarning\n",
    "\n",
    "import warnings # to catch warnings\n",
    "\n",
    "\n",
    "C=[1e-5, 1e-4, 1e-3, 1e-2, 1e-1, 1e-0]\n",
    "cv=[]\n",
    "\n",
    "with warnings.catch_warnings():  # to remove convergence warning output\n",
    "    warnings.simplefilter(\"ignore\", category=ConvergenceWarning)\n",
    "    # for each c value fit to the train data and save the 4-cross validation scores\n",
    "    for c in C:\n",
    "        # new regressor\n",
    "        reg = LogisticRegression(multi_class=\"multinomial\",solver=\"saga\", penalty=\"l1\", C=c, random_state=0, max_iter=1000)\n",
    "        cv.append( cross_val_score(reg, X[train_ind], Y[train_ind], cv =4) )"
   ]
  },
  {
   "cell_type": "code",
   "execution_count": 26,
   "metadata": {},
   "outputs": [
    {
     "name": "stdout",
     "output_type": "stream",
     "text": [
      "[0.1        0.10306407 0.10306407 0.10306407]\n",
      "[0.1        0.10306407 0.10306407 0.10584958]\n",
      "[0.22222222 0.23119777 0.15877437 0.16155989]\n",
      "[0.91388889 0.91086351 0.93314763 0.92200557]\n",
      "[0.95       0.95821727 0.95543175 0.96657382]\n",
      "[0.96111111 0.9637883  0.95543175 0.96100279]\n",
      "mean cv values\n",
      "[0.10229805013927576, 0.10299442896935933, 0.1934385639121015, 0.9199764004952027, 0.9575557103064066, 0.9603334880841845]\n",
      "max cv  0.9603334880841845  at  1.0\n"
     ]
    }
   ],
   "source": [
    "# Find the mean of each 4-cross validation's scores\n",
    "cvmean = []\n",
    "for i in range(6):\n",
    "    print(cv[i])\n",
    "    cvmean.append(np.average(cv[i]))\n",
    "print(\"mean cv values\")\n",
    "print(cvmean)\n",
    "\n",
    "# The better model corresponds to the higher score\n",
    "maxcv = np.max(cvmean)\n",
    "max = np.argmax(cvmean)\n",
    "print(\"max cv \", maxcv, \" at \", C[max])\n"
   ]
  },
  {
   "cell_type": "markdown",
   "metadata": {},
   "source": [
    "### 6. Repeat 4 with LogisticRegression(..., penalty=\"l1\", C=C, random_state=0, max_iter=1000, solver='saga')\n",
    "The first scores for this one really suck, the best result happens when $C=1$."
   ]
  },
  {
   "cell_type": "code",
   "execution_count": 28,
   "metadata": {},
   "outputs": [
    {
     "name": "stdout",
     "output_type": "stream",
     "text": [
      "1.0\n",
      "0.9694444444444444\n"
     ]
    },
    {
     "name": "stderr",
     "output_type": "stream",
     "text": [
      "c:\\Users\\Paquito\\anaconda3\\envs\\ML\\lib\\site-packages\\sklearn\\linear_model\\_sag.py:350: ConvergenceWarning: The max_iter was reached which means the coef_ did not converge\n",
      "  warnings.warn(\n"
     ]
    }
   ],
   "source": [
    "# fit to the train data\n",
    "reg = LogisticRegression(multi_class=\"multinomial\",solver=\"saga\", penalty=\"l1\", C=C[max], random_state=0, max_iter=1000)\n",
    "reg.fit(X=X[train_ind],y=Y[train_ind])\n",
    "\n",
    "# train error\n",
    "train_error = reg.score(X[train_ind],Y[train_ind])\n",
    "print(train_error)\n",
    "\n",
    "# test error\n",
    "test_error = reg.score(X[test_ind],Y[test_ind])\n",
    "print(test_error)\n"
   ]
  },
  {
   "cell_type": "markdown",
   "metadata": {},
   "source": [
    "Which yields a $100\\%$ train score (or $0\\%$ error) and a $96.94\\%$ test score (or $3.06\\%$ error) "
   ]
  }
 ],
 "metadata": {
  "kernelspec": {
   "display_name": "Python 3.10.4 ('ML')",
   "language": "python",
   "name": "python3"
  },
  "language_info": {
   "codemirror_mode": {
    "name": "ipython",
    "version": 3
   },
   "file_extension": ".py",
   "mimetype": "text/x-python",
   "name": "python",
   "nbconvert_exporter": "python",
   "pygments_lexer": "ipython3",
   "version": "3.10.4"
  },
  "orig_nbformat": 4,
  "vscode": {
   "interpreter": {
    "hash": "f2c347be7a09c79bec3584906b56bc46bcac2758b6dee90f1bb02256e0ead907"
   }
  }
 },
 "nbformat": 4,
 "nbformat_minor": 2
}
